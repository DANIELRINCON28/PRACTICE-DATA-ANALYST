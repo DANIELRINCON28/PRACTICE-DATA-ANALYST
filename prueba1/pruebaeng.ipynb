{
 "cells": [
  {
   "cell_type": "code",
   "execution_count": 1,
   "metadata": {},
   "outputs": [],
   "source": [
    "import pandas as pd\n",
    "import numpy as np"
   ]
  },
  {
   "cell_type": "code",
   "execution_count": 2,
   "metadata": {},
   "outputs": [],
   "source": [
    "df=pd.read_csv('C:/Users/ASUS/Desktop/Jupyter vsc/prueba1/electionpoll.csv')"
   ]
  },
  {
   "cell_type": "code",
   "execution_count": 3,
   "metadata": {},
   "outputs": [
    {
     "data": {
      "application/vnd.microsoft.datawrangler.viewer.v0+json": {
       "columns": [
        {
         "name": "index",
         "rawType": "int64",
         "type": "integer"
        },
        {
         "name": "Date \\ Party",
         "rawType": "object",
         "type": "string"
        },
        {
         "name": "National Party",
         "rawType": "int64",
         "type": "integer"
        },
        {
         "name": "Peoples Party",
         "rawType": "int64",
         "type": "integer"
        },
        {
         "name": "Alliance Party",
         "rawType": "int64",
         "type": "integer"
        },
        {
         "name": "Civic Party",
         "rawType": "int64",
         "type": "integer"
        },
        {
         "name": "Conservative Party",
         "rawType": "int64",
         "type": "integer"
        },
        {
         "name": "Liberal Party",
         "rawType": "int64",
         "type": "integer"
        },
        {
         "name": "Workers Party",
         "rawType": "int64",
         "type": "integer"
        }
       ],
       "conversionMethod": "pd.DataFrame",
       "ref": "35c72639-cad8-4643-a6ac-8467b45828ff",
       "rows": [
        [
         "0",
         "2019-01-01",
         "0",
         "20",
         "27",
         "26",
         "1",
         "3",
         "23"
        ],
        [
         "1",
         "2019-01-02",
         "0",
         "19",
         "28",
         "26",
         "1",
         "4",
         "22"
        ],
        [
         "2",
         "2019-01-03",
         "0",
         "20",
         "29",
         "27",
         "0",
         "3",
         "21"
        ],
        [
         "3",
         "2019-01-04",
         "0",
         "22",
         "25",
         "25",
         "1",
         "2",
         "25"
        ],
        [
         "4",
         "2019-01-05",
         "0",
         "24",
         "22",
         "21",
         "4",
         "1",
         "28"
        ],
        [
         "5",
         "2019-01-06",
         "1",
         "24",
         "23",
         "21",
         "4",
         "0",
         "27"
        ],
        [
         "6",
         "2019-01-07",
         "0",
         "24",
         "25",
         "25",
         "1",
         "0",
         "25"
        ],
        [
         "7",
         "2019-01-08",
         "0",
         "21",
         "25",
         "22",
         "6",
         "1",
         "25"
        ],
        [
         "8",
         "2019-01-09",
         "0",
         "21",
         "28",
         "26",
         "3",
         "0",
         "22"
        ],
        [
         "9",
         "2019-01-10",
         "0",
         "23",
         "24",
         "21",
         "6",
         "0",
         "26"
        ],
        [
         "10",
         "2019-01-11",
         "0",
         "21",
         "26",
         "26",
         "2",
         "1",
         "24"
        ],
        [
         "11",
         "2019-01-12",
         "0",
         "19",
         "30",
         "29",
         "0",
         "2",
         "20"
        ],
        [
         "12",
         "2019-01-13",
         "0",
         "20",
         "27",
         "26",
         "3",
         "1",
         "23"
        ],
        [
         "13",
         "2019-01-14",
         "0",
         "18",
         "30",
         "27",
         "3",
         "2",
         "20"
        ],
        [
         "14",
         "2019-01-15",
         "0",
         "17",
         "30",
         "29",
         "1",
         "3",
         "20"
        ],
        [
         "15",
         "2019-01-16",
         "0",
         "14",
         "33",
         "32",
         "0",
         "4",
         "17"
        ],
        [
         "16",
         "2019-01-17",
         "0",
         "11",
         "36",
         "36",
         "0",
         "3",
         "14"
        ],
        [
         "17",
         "2019-01-18",
         "0",
         "14",
         "34",
         "33",
         "0",
         "3",
         "16"
        ],
        [
         "18",
         "2019-01-19",
         "0",
         "15",
         "33",
         "30",
         "3",
         "2",
         "17"
        ],
        [
         "19",
         "2019-01-20",
         "0",
         "18",
         "30",
         "29",
         "2",
         "1",
         "20"
        ],
        [
         "20",
         "2019-01-21",
         "1",
         "24",
         "26",
         "22",
         "3",
         "0",
         "24"
        ],
        [
         "21",
         "2019-01-22",
         "2",
         "24",
         "27",
         "21",
         "3",
         "0",
         "23"
        ],
        [
         "22",
         "2019-01-23",
         "0",
         "24",
         "26",
         "21",
         "5",
         "0",
         "24"
        ],
        [
         "23",
         "2019-01-24",
         "0",
         "24",
         "26",
         "22",
         "4",
         "0",
         "24"
        ],
        [
         "24",
         "2019-01-25",
         "0",
         "19",
         "21",
         "27",
         "1",
         "3",
         "29"
        ],
        [
         "25",
         "2019-01-26",
         "0",
         "20",
         "22",
         "27",
         "1",
         "2",
         "28"
        ],
        [
         "26",
         "2019-01-27",
         "0",
         "18",
         "19",
         "29",
         "0",
         "3",
         "31"
        ],
        [
         "27",
         "2019-01-28",
         "0",
         "17",
         "18",
         "29",
         "0",
         "4",
         "32"
        ],
        [
         "28",
         "2019-01-29",
         "0",
         "17",
         "20",
         "30",
         "0",
         "3",
         "30"
        ],
        [
         "29",
         "2019-01-30",
         "0",
         "16",
         "18",
         "32",
         "0",
         "2",
         "32"
        ],
        [
         "30",
         "2019-01-31",
         "0",
         "15",
         "19",
         "30",
         "2",
         "3",
         "31"
        ],
        [
         "31",
         "2019-02-01",
         "0",
         "14",
         "16",
         "32",
         "0",
         "4",
         "34"
        ],
        [
         "32",
         "2019-02-02",
         "0",
         "15",
         "18",
         "30",
         "2",
         "3",
         "32"
        ],
        [
         "33",
         "2019-02-03",
         "0",
         "18",
         "20",
         "29",
         "1",
         "2",
         "30"
        ],
        [
         "34",
         "2019-02-04",
         "0",
         "24",
         "25",
         "25",
         "1",
         "0",
         "25"
        ],
        [
         "35",
         "2019-02-05",
         "1",
         "24",
         "27",
         "20",
         "5",
         "0",
         "23"
        ],
        [
         "36",
         "2019-02-06",
         "0",
         "22",
         "26",
         "23",
         "4",
         "1",
         "24"
        ],
        [
         "37",
         "2019-02-07",
         "0",
         "22",
         "24",
         "25",
         "3",
         "0",
         "26"
        ],
        [
         "38",
         "2019-02-08",
         "0",
         "20",
         "24",
         "24",
         "5",
         "1",
         "26"
        ],
        [
         "39",
         "2019-02-09",
         "0",
         "24",
         "28",
         "21",
         "5",
         "0",
         "22"
        ],
        [
         "40",
         "2019-02-10",
         "0",
         "22",
         "23",
         "27",
         "0",
         "1",
         "27"
        ],
        [
         "41",
         "2019-02-11",
         "0",
         "21",
         "24",
         "23",
         "4",
         "2",
         "26"
        ],
        [
         "42",
         "2019-02-12",
         "0",
         "22",
         "24",
         "26",
         "1",
         "1",
         "26"
        ],
        [
         "43",
         "2019-02-13",
         "0",
         "20",
         "24",
         "25",
         "3",
         "2",
         "26"
        ],
        [
         "44",
         "2019-02-14",
         "0",
         "20",
         "22",
         "27",
         "2",
         "1",
         "28"
        ],
        [
         "45",
         "2019-02-15",
         "0",
         "21",
         "23",
         "25",
         "4",
         "0",
         "27"
        ],
        [
         "46",
         "2019-02-16",
         "0",
         "19",
         "21",
         "28",
         "2",
         "1",
         "29"
        ],
        [
         "47",
         "2019-02-17",
         "0",
         "19",
         "23",
         "25",
         "4",
         "2",
         "27"
        ],
        [
         "48",
         "2019-02-18",
         "0",
         "18",
         "20",
         "29",
         "0",
         "3",
         "30"
        ],
        [
         "49",
         "2019-02-19",
         "0",
         "18",
         "21",
         "29",
         "0",
         "3",
         "29"
        ]
       ],
       "shape": {
        "columns": 8,
        "rows": 365
       }
      },
      "text/html": [
       "<div>\n",
       "<style scoped>\n",
       "    .dataframe tbody tr th:only-of-type {\n",
       "        vertical-align: middle;\n",
       "    }\n",
       "\n",
       "    .dataframe tbody tr th {\n",
       "        vertical-align: top;\n",
       "    }\n",
       "\n",
       "    .dataframe thead th {\n",
       "        text-align: right;\n",
       "    }\n",
       "</style>\n",
       "<table border=\"1\" class=\"dataframe\">\n",
       "  <thead>\n",
       "    <tr style=\"text-align: right;\">\n",
       "      <th></th>\n",
       "      <th>Date \\ Party</th>\n",
       "      <th>National Party</th>\n",
       "      <th>Peoples Party</th>\n",
       "      <th>Alliance Party</th>\n",
       "      <th>Civic Party</th>\n",
       "      <th>Conservative Party</th>\n",
       "      <th>Liberal Party</th>\n",
       "      <th>Workers Party</th>\n",
       "    </tr>\n",
       "  </thead>\n",
       "  <tbody>\n",
       "    <tr>\n",
       "      <th>0</th>\n",
       "      <td>2019-01-01</td>\n",
       "      <td>0</td>\n",
       "      <td>20</td>\n",
       "      <td>27</td>\n",
       "      <td>26</td>\n",
       "      <td>1</td>\n",
       "      <td>3</td>\n",
       "      <td>23</td>\n",
       "    </tr>\n",
       "    <tr>\n",
       "      <th>1</th>\n",
       "      <td>2019-01-02</td>\n",
       "      <td>0</td>\n",
       "      <td>19</td>\n",
       "      <td>28</td>\n",
       "      <td>26</td>\n",
       "      <td>1</td>\n",
       "      <td>4</td>\n",
       "      <td>22</td>\n",
       "    </tr>\n",
       "    <tr>\n",
       "      <th>2</th>\n",
       "      <td>2019-01-03</td>\n",
       "      <td>0</td>\n",
       "      <td>20</td>\n",
       "      <td>29</td>\n",
       "      <td>27</td>\n",
       "      <td>0</td>\n",
       "      <td>3</td>\n",
       "      <td>21</td>\n",
       "    </tr>\n",
       "    <tr>\n",
       "      <th>3</th>\n",
       "      <td>2019-01-04</td>\n",
       "      <td>0</td>\n",
       "      <td>22</td>\n",
       "      <td>25</td>\n",
       "      <td>25</td>\n",
       "      <td>1</td>\n",
       "      <td>2</td>\n",
       "      <td>25</td>\n",
       "    </tr>\n",
       "    <tr>\n",
       "      <th>4</th>\n",
       "      <td>2019-01-05</td>\n",
       "      <td>0</td>\n",
       "      <td>24</td>\n",
       "      <td>22</td>\n",
       "      <td>21</td>\n",
       "      <td>4</td>\n",
       "      <td>1</td>\n",
       "      <td>28</td>\n",
       "    </tr>\n",
       "    <tr>\n",
       "      <th>...</th>\n",
       "      <td>...</td>\n",
       "      <td>...</td>\n",
       "      <td>...</td>\n",
       "      <td>...</td>\n",
       "      <td>...</td>\n",
       "      <td>...</td>\n",
       "      <td>...</td>\n",
       "      <td>...</td>\n",
       "    </tr>\n",
       "    <tr>\n",
       "      <th>360</th>\n",
       "      <td>2019-12-27</td>\n",
       "      <td>13</td>\n",
       "      <td>3</td>\n",
       "      <td>10</td>\n",
       "      <td>26</td>\n",
       "      <td>1</td>\n",
       "      <td>20</td>\n",
       "      <td>27</td>\n",
       "    </tr>\n",
       "    <tr>\n",
       "      <th>361</th>\n",
       "      <td>2019-12-28</td>\n",
       "      <td>15</td>\n",
       "      <td>2</td>\n",
       "      <td>8</td>\n",
       "      <td>25</td>\n",
       "      <td>2</td>\n",
       "      <td>20</td>\n",
       "      <td>28</td>\n",
       "    </tr>\n",
       "    <tr>\n",
       "      <th>362</th>\n",
       "      <td>2019-12-29</td>\n",
       "      <td>16</td>\n",
       "      <td>3</td>\n",
       "      <td>5</td>\n",
       "      <td>27</td>\n",
       "      <td>3</td>\n",
       "      <td>17</td>\n",
       "      <td>29</td>\n",
       "    </tr>\n",
       "    <tr>\n",
       "      <th>363</th>\n",
       "      <td>2019-12-30</td>\n",
       "      <td>17</td>\n",
       "      <td>2</td>\n",
       "      <td>4</td>\n",
       "      <td>28</td>\n",
       "      <td>2</td>\n",
       "      <td>18</td>\n",
       "      <td>29</td>\n",
       "    </tr>\n",
       "    <tr>\n",
       "      <th>364</th>\n",
       "      <td>2019-12-31</td>\n",
       "      <td>18</td>\n",
       "      <td>1</td>\n",
       "      <td>7</td>\n",
       "      <td>23</td>\n",
       "      <td>5</td>\n",
       "      <td>20</td>\n",
       "      <td>26</td>\n",
       "    </tr>\n",
       "  </tbody>\n",
       "</table>\n",
       "<p>365 rows × 8 columns</p>\n",
       "</div>"
      ],
      "text/plain": [
       "    Date \\ Party  National Party  Peoples Party  Alliance Party  Civic Party  \\\n",
       "0     2019-01-01               0             20              27           26   \n",
       "1     2019-01-02               0             19              28           26   \n",
       "2     2019-01-03               0             20              29           27   \n",
       "3     2019-01-04               0             22              25           25   \n",
       "4     2019-01-05               0             24              22           21   \n",
       "..           ...             ...            ...             ...          ...   \n",
       "360   2019-12-27              13              3              10           26   \n",
       "361   2019-12-28              15              2               8           25   \n",
       "362   2019-12-29              16              3               5           27   \n",
       "363   2019-12-30              17              2               4           28   \n",
       "364   2019-12-31              18              1               7           23   \n",
       "\n",
       "     Conservative Party  Liberal Party  Workers Party  \n",
       "0                     1              3             23  \n",
       "1                     1              4             22  \n",
       "2                     0              3             21  \n",
       "3                     1              2             25  \n",
       "4                     4              1             28  \n",
       "..                  ...            ...            ...  \n",
       "360                   1             20             27  \n",
       "361                   2             20             28  \n",
       "362                   3             17             29  \n",
       "363                   2             18             29  \n",
       "364                   5             20             26  \n",
       "\n",
       "[365 rows x 8 columns]"
      ]
     },
     "execution_count": 3,
     "metadata": {},
     "output_type": "execute_result"
    }
   ],
   "source": [
    "df"
   ]
  },
  {
   "cell_type": "code",
   "execution_count": 4,
   "metadata": {},
   "outputs": [
    {
     "name": "stdout",
     "output_type": "stream",
     "text": [
      "<class 'pandas.core.frame.DataFrame'>\n",
      "RangeIndex: 365 entries, 0 to 364\n",
      "Data columns (total 8 columns):\n",
      " #   Column              Non-Null Count  Dtype \n",
      "---  ------              --------------  ----- \n",
      " 0   Date \\ Party        365 non-null    object\n",
      " 1   National Party      365 non-null    int64 \n",
      " 2   Peoples Party       365 non-null    int64 \n",
      " 3   Alliance Party      365 non-null    int64 \n",
      " 4   Civic Party         365 non-null    int64 \n",
      " 5   Conservative Party  365 non-null    int64 \n",
      " 6   Liberal Party       365 non-null    int64 \n",
      " 7   Workers Party       365 non-null    int64 \n",
      "dtypes: int64(7), object(1)\n",
      "memory usage: 22.9+ KB\n"
     ]
    }
   ],
   "source": [
    "df.info()"
   ]
  },
  {
   "cell_type": "code",
   "execution_count": 10,
   "metadata": {},
   "outputs": [
    {
     "name": "stdout",
     "output_type": "stream",
     "text": [
      "La media aritmética redondeada es: 28.7\n"
     ]
    }
   ],
   "source": [
    "mean_value = round(df['Workers Party'].mean(), 1)\n",
    "print(\"La media aritmética redondeada es:\", mean_value)"
   ]
  },
  {
   "cell_type": "code",
   "execution_count": 13,
   "metadata": {},
   "outputs": [
    {
     "name": "stdout",
     "output_type": "stream",
     "text": [
      "La desviacion estandar redondeada es: 3.8\n"
     ]
    }
   ],
   "source": [
    "mean_value = round(df['Workers Party'].std(), 1)\n",
    "print(\"La desviacion estandar redondeada es:\", mean_value)"
   ]
  },
  {
   "cell_type": "code",
   "execution_count": 18,
   "metadata": {},
   "outputs": [
    {
     "name": "stdout",
     "output_type": "stream",
     "text": [
      "El valor máximo es: 36\n",
      "El valor mínimo es: 14\n",
      "El rango es: 22\n"
     ]
    }
   ],
   "source": [
    "maximo = df['Workers Party'].max()\n",
    "minimo = df['Workers Party'].min()\n",
    "print(\"El valor máximo es:\", maximo)\n",
    "print(\"El valor mínimo es:\", minimo)\n",
    "resullt = maximo - minimo\n",
    "print(\"El rango es:\", resullt)"
   ]
  },
  {
   "cell_type": "code",
   "execution_count": 20,
   "metadata": {},
   "outputs": [
    {
     "name": "stdout",
     "output_type": "stream",
     "text": [
      "La fecha máxima es: 2019-12-31\n"
     ]
    }
   ],
   "source": [
    "fecha_maxima = df['Date \\ Party'].max()\n",
    "print(\"La fecha máxima es:\", fecha_maxima)"
   ]
  }
 ],
 "metadata": {
  "kernelspec": {
   "display_name": ".venv",
   "language": "python",
   "name": "python3"
  },
  "language_info": {
   "codemirror_mode": {
    "name": "ipython",
    "version": 3
   },
   "file_extension": ".py",
   "mimetype": "text/x-python",
   "name": "python",
   "nbconvert_exporter": "python",
   "pygments_lexer": "ipython3",
   "version": "3.11.9"
  }
 },
 "nbformat": 4,
 "nbformat_minor": 2
}
