{
 "cells": [
  {
   "cell_type": "code",
   "execution_count": 1,
   "metadata": {},
   "outputs": [],
   "source": [
    "import pandas as pd\n",
    "import numpy as np\n",
    "import matplotlib.pyplot as plt\n",
    "import seaborn as sns"
   ]
  },
  {
   "cell_type": "code",
   "execution_count": 2,
   "metadata": {},
   "outputs": [],
   "source": [
    "df=pd.read_csv('C:/Users/ASUS/Desktop/Jupyter vsc/practica1/dataset_banco.csv')"
   ]
  },
  {
   "cell_type": "code",
   "execution_count": 3,
   "metadata": {},
   "outputs": [
    {
     "data": {
      "application/vnd.microsoft.datawrangler.viewer.v0+json": {
       "columns": [
        {
         "name": "index",
         "rawType": "int64",
         "type": "integer"
        },
        {
         "name": "age",
         "rawType": "int64",
         "type": "integer"
        },
        {
         "name": "job",
         "rawType": "object",
         "type": "unknown"
        },
        {
         "name": "marital",
         "rawType": "object",
         "type": "unknown"
        },
        {
         "name": "education",
         "rawType": "object",
         "type": "unknown"
        },
        {
         "name": "default",
         "rawType": "object",
         "type": "string"
        },
        {
         "name": "balance",
         "rawType": "float64",
         "type": "float"
        },
        {
         "name": "housing",
         "rawType": "object",
         "type": "string"
        },
        {
         "name": "loan",
         "rawType": "object",
         "type": "string"
        },
        {
         "name": "contact",
         "rawType": "object",
         "type": "string"
        },
        {
         "name": "day",
         "rawType": "int64",
         "type": "integer"
        },
        {
         "name": "month",
         "rawType": "object",
         "type": "string"
        },
        {
         "name": "duration",
         "rawType": "float64",
         "type": "float"
        },
        {
         "name": "campaign",
         "rawType": "int64",
         "type": "integer"
        },
        {
         "name": "pdays",
         "rawType": "float64",
         "type": "float"
        },
        {
         "name": "previous",
         "rawType": "int64",
         "type": "integer"
        },
        {
         "name": "poutcome",
         "rawType": "object",
         "type": "string"
        },
        {
         "name": "y",
         "rawType": "object",
         "type": "string"
        }
       ],
       "conversionMethod": "pd.DataFrame",
       "ref": "c894eaf8-685c-4983-b7f1-25a6908eb5de",
       "rows": [
        [
         "0",
         "58",
         "management",
         "married",
         "tertiary",
         "no",
         "2143.0",
         "yes",
         "no",
         "unknown",
         "5",
         "may",
         "261.0",
         "1",
         "-1.0",
         "0",
         "unknown",
         "no"
        ],
        [
         "1",
         "44",
         "technician",
         "single",
         "secondary",
         "no",
         "29.0",
         "yes",
         "no",
         "unknown",
         "5",
         "may",
         "151.0",
         "1",
         "-1.0",
         "0",
         "unknown",
         "no"
        ],
        [
         "2",
         "33",
         "entrepreneur",
         "married",
         "secondary",
         "no",
         "2.0",
         "yes",
         "yes",
         "unknown",
         "5",
         "may",
         "76.0",
         "1",
         "-1.0",
         "0",
         "unknown",
         "no"
        ],
        [
         "3",
         "47",
         "blue-collar",
         "married",
         "unknown",
         "no",
         "1506.0",
         "yes",
         "no",
         "unknown",
         "5",
         "may",
         "92.0",
         "1",
         "-1.0",
         "0",
         "unknown",
         "no"
        ],
        [
         "4",
         "33",
         "unknown",
         "single",
         "unknown",
         "no",
         "1.0",
         "no",
         "no",
         "unknown",
         "5",
         "may",
         "198.0",
         "1",
         "-1.0",
         "0",
         "unknown",
         "no"
        ],
        [
         "5",
         "35",
         "management",
         "married",
         "tertiary",
         "no",
         "231.0",
         "yes",
         "no",
         "unknown",
         "5",
         "may",
         "139.0",
         "1",
         "-1.0",
         "0",
         "unknown",
         "no"
        ],
        [
         "6",
         "28",
         "Management",
         "single",
         "tertiary",
         "no",
         "447.0",
         "yes",
         "yes",
         "unknown",
         "5",
         "may",
         "217.0",
         "1",
         "-1.0",
         "0",
         "unknown",
         "no"
        ],
        [
         "7",
         "42",
         "entrepreneur",
         "div.",
         "tertiary",
         "yes",
         "2.0",
         "yes",
         "no",
         "unknown",
         "5",
         "may",
         "380.0",
         "1",
         "-1.0",
         "0",
         "unknown",
         "no"
        ],
        [
         "8",
         "58",
         "retired",
         "married",
         "primary",
         "no",
         "121.0",
         "yes",
         "no",
         "unknown",
         "5",
         "may",
         "50.0",
         "1",
         "-1.0",
         "0",
         "unknown",
         "no"
        ],
        [
         "9",
         "43",
         "technician",
         "single",
         "secondary",
         "no",
         "593.0",
         "yes",
         "No",
         "unknown",
         "5",
         "may",
         "55.0",
         "1",
         "-1.0",
         "0",
         "unknown",
         "no"
        ],
        [
         "10",
         "41",
         "admin.",
         "div.",
         "secondary",
         "no",
         "270.0",
         "yes",
         "no",
         "unknown",
         "5",
         "may",
         "222.0",
         "1",
         "-1.0",
         "0",
         "unknown",
         "no"
        ],
        [
         "11",
         "29",
         "admin.",
         "single",
         "secondary",
         "no",
         "390.0",
         "yes",
         "no",
         "unknown",
         "5",
         "may",
         "137.0",
         "1",
         "-1.0",
         "0",
         "UNK",
         "no"
        ],
        [
         "12",
         "53",
         "technician",
         "married",
         "secondary",
         "no",
         "6.0",
         "yes",
         "no",
         "unknown",
         "5",
         "may",
         "-517.0",
         "1",
         "-1.0",
         "0",
         "unknown",
         "no"
        ],
        [
         "13",
         "58",
         "technician",
         "married",
         "unknown",
         "no",
         "71.0",
         "yes",
         "no",
         "unknown",
         "5",
         "may",
         "71.0",
         "1",
         "-1.0",
         "0",
         "unknown",
         "no"
        ],
        [
         "14",
         "57",
         "services",
         "married",
         "secondary",
         "no",
         "162.0",
         "yes",
         "No",
         "unknown",
         "5",
         "may",
         "174.0",
         "1",
         "-1.0",
         "0",
         "unknown",
         "no"
        ],
        [
         "15",
         "51",
         "retired",
         "married",
         "primary",
         "no",
         "229.0",
         "yes",
         "no",
         "unknown",
         "5",
         "may",
         "353.0",
         "1",
         "-1.0",
         "0",
         "unknown",
         "no"
        ],
        [
         "16",
         "45",
         "admin.",
         "single",
         "unknown",
         "no",
         "13.0",
         "yes",
         "no",
         "unknown",
         "5",
         "may",
         "98.0",
         "1",
         "-1.0",
         "0",
         "unknown",
         "no"
        ],
        [
         "17",
         "57",
         "blue-collar",
         "married",
         "primary",
         "no",
         "52.0",
         "yes",
         "no",
         "unknown",
         "5",
         "may",
         "38.0",
         "1",
         "-1.0",
         "0",
         "unknown",
         "no"
        ],
        [
         "18",
         "60",
         "retired",
         "married",
         "primary",
         "no",
         "60.0",
         "yes",
         "no",
         "unknown",
         "5",
         "may",
         "219.0",
         "1",
         "-1.0",
         "0",
         "unknown",
         "no"
        ],
        [
         "19",
         "33",
         "services",
         "married",
         "secondary",
         "no",
         "0.0",
         "yes",
         "no",
         "unknown",
         "5",
         "may",
         "54.0",
         "1",
         "-1.0",
         "0",
         "unknown",
         "no"
        ],
        [
         "20",
         "28",
         "blue-collar",
         "married",
         "secondary",
         "no",
         "723.0",
         "yes",
         "yes",
         "unknown",
         "5",
         "may",
         "262.0",
         "1",
         "-1.0",
         "0",
         "unknown",
         "no"
        ],
        [
         "21",
         "56",
         "management",
         "married",
         "tertiary",
         "no",
         "779.0",
         "yes",
         "no",
         "unknown",
         "5",
         "may",
         "164.0",
         "1",
         "-1.0",
         "0",
         "unknown",
         "no"
        ],
        [
         "22",
         "32",
         "blue-collar",
         "single",
         "primary",
         "no",
         "23.0",
         "yes",
         "yes",
         "unknown",
         "5",
         "may",
         "160.0",
         "1",
         "-1.0",
         "0",
         "unknown",
         "no"
        ],
        [
         "23",
         "25",
         "services",
         "married",
         "secondary",
         "no",
         "50.0",
         "yes",
         "no",
         "unknown",
         "5",
         "may",
         "342.0",
         "1",
         "-1.0",
         "0",
         "unknown",
         "no"
        ],
        [
         "24",
         "40",
         "retired",
         "married",
         "primary",
         "no",
         "0.0",
         "yes",
         "yes",
         "unknown",
         "5",
         "may",
         "181.0",
         "1",
         "-1.0",
         "0",
         "unknown",
         "no"
        ],
        [
         "25",
         "44",
         "admin.",
         "married",
         "secondary",
         "no",
         "-372.0",
         "yes",
         "no",
         "unknown",
         "5",
         "may",
         "172.0",
         "1",
         "-1.0",
         "0",
         "unknown",
         "no"
        ],
        [
         "26",
         "39",
         "management",
         "single",
         "tertiary",
         "no",
         "255.0",
         "yes",
         "no",
         "unknown",
         "5",
         "may",
         "296.0",
         "1",
         "-1.0",
         "0",
         "unknown",
         "no"
        ],
        [
         "27",
         "52",
         "entrepreneur",
         "married",
         "secondary",
         "no",
         "113.0",
         "yes",
         "yes",
         "unknown",
         "5",
         "may",
         "127.0",
         "1",
         "-1.0",
         "0",
         "unknown",
         "no"
        ],
        [
         "28",
         "46",
         "management",
         "single",
         "secondary",
         "no",
         "-246.0",
         "yes",
         "no",
         "unknown",
         "5",
         "may",
         "255.0",
         "2",
         "-1.0",
         "0",
         "unknown",
         "no"
        ],
        [
         "29",
         "36",
         "technician",
         "single",
         "secondary",
         "no",
         "265.0",
         "yes",
         "yes",
         "unknown",
         "5",
         "may",
         "348.0",
         "1",
         "-1.0",
         "0",
         "unknown",
         "no"
        ],
        [
         "30",
         "57",
         "technician",
         "married",
         "secondary",
         "no",
         "839.0",
         "no",
         "yes",
         "unknown",
         "5",
         "may",
         "225.0",
         "1",
         "-1.0",
         "0",
         "unknown",
         "no"
        ],
        [
         "31",
         "49",
         "management",
         "married",
         "tertiary",
         "no",
         "378.0",
         "yes",
         "no",
         "unknown",
         "5",
         "may",
         "230.0",
         "1",
         "-1.0",
         "0",
         "unknown",
         "no"
        ],
        [
         "32",
         "60",
         "admin.",
         "married",
         "secondary",
         "no",
         "39.0",
         "yes",
         "yes",
         "unknown",
         "5",
         "may",
         "208.0",
         "1",
         "-1.0",
         "0",
         "unknown",
         "no"
        ],
        [
         "33",
         "59",
         "blue-collar",
         "married",
         "secondary",
         "no",
         "0.0",
         "yes",
         "no",
         "unknown",
         "5",
         "may",
         "226.0",
         "1",
         "-1.0",
         "0",
         "unknown",
         "no"
        ],
        [
         "34",
         "51",
         "management",
         "married",
         "tertiary",
         "no",
         "10635.0",
         "yes",
         "no",
         "unknown",
         "5",
         "may",
         "336.0",
         "1",
         "-1.0",
         "0",
         "unknown",
         "no"
        ],
        [
         "35",
         "57",
         "technician",
         "divorced",
         "secondary",
         "no",
         "63.0",
         "yes",
         "no",
         "unknown",
         "5",
         "may",
         "242.0",
         "1",
         "-1.0",
         "0",
         "unknown",
         "no"
        ],
        [
         "36",
         "25",
         "blue-collar",
         "married",
         "secondary",
         "no",
         "-7.0",
         "yes",
         "no",
         "unknown",
         "5",
         "may",
         "365.0",
         "1",
         "-1.0",
         "0",
         "unknown",
         "no"
        ],
        [
         "37",
         "53",
         "technician",
         "married",
         "secondary",
         "no",
         "-3.0",
         "no",
         "no",
         "unknown",
         "5",
         "may",
         "1666.0",
         "1",
         "-1.0",
         "0",
         "unknown",
         "no"
        ],
        [
         "38",
         "36",
         "admin.",
         "divorced",
         "secondary",
         "no",
         "506.0",
         "yes",
         "no",
         "unknown",
         "5",
         "may",
         "577.0",
         "1",
         "-1.0",
         "0",
         "unknown",
         "no"
        ],
        [
         "39",
         "37",
         "admin.",
         "single",
         "secondary",
         "no",
         "0.0",
         "yes",
         "no",
         "unknown",
         "5",
         "may",
         "137.0",
         "1",
         "-1.0",
         "0",
         "unknown",
         "no"
        ],
        [
         "40",
         "44",
         "services",
         "divorced",
         "secondary",
         "no",
         "2586.0",
         "yes",
         "no",
         "unknown",
         "5",
         "may",
         "160.0",
         "1",
         "-1.0",
         "0",
         "unknown",
         "no"
        ],
        [
         "41",
         "50",
         "management",
         "married",
         "secondary",
         "no",
         "49.0",
         "yes",
         "no",
         "unknown",
         "5",
         "may",
         "180.0",
         "2",
         "-1.0",
         "0",
         "unknown",
         "no"
        ],
        [
         "42",
         "60",
         "blue-collar",
         "married",
         "unknown",
         "no",
         "104.0",
         "yes",
         "no",
         "unknown",
         "5",
         "may",
         "22.0",
         "1",
         "-1.0",
         "0",
         "unknown",
         "no"
        ],
        [
         "43",
         "54",
         "retired",
         "married",
         "secondary",
         "no",
         "529.0",
         "yes",
         "no",
         "unknown",
         "5",
         "may",
         "1492.0",
         "1",
         "-1.0",
         "0",
         "unknown",
         "no"
        ],
        [
         "44",
         "58",
         "retired",
         "married",
         "unknown",
         "no",
         "96.0",
         "yes",
         "no",
         "unknown",
         "5",
         "may",
         "616.0",
         "1",
         "-1.0",
         "0",
         "unknown",
         "no"
        ],
        [
         "45",
         "36",
         "admin.",
         "single",
         "primary",
         "no",
         "-171.0",
         "yes",
         "no",
         "unknown",
         "5",
         "may",
         "242.0",
         "1",
         "-1.0",
         "0",
         "unknown",
         "no"
        ],
        [
         "46",
         "58",
         "self-employed",
         "married",
         "tertiary",
         "no",
         "-364.0",
         "yes",
         "no",
         "unknown",
         "5",
         "may",
         "355.0",
         "1",
         "-1.0",
         "0",
         "unknown",
         "no"
        ],
        [
         "47",
         "44",
         "technician",
         "married",
         "secondary",
         "no",
         "0.0",
         "yes",
         "no",
         "unknown",
         "5",
         "may",
         "225.0",
         "2",
         "-1.0",
         "0",
         "unknown",
         "no"
        ],
        [
         "48",
         "55",
         "technician",
         "divorced",
         "secondary",
         "no",
         "0.0",
         "no",
         "no",
         "unknown",
         "5",
         "may",
         "160.0",
         "1",
         "-1.0",
         "0",
         "unknown",
         "no"
        ],
        [
         "49",
         "29",
         "Management",
         "single",
         "tertiary",
         "no",
         "0.0",
         "yes",
         "no",
         "unknown",
         "5",
         "may",
         "363.0",
         "1",
         "-1.0",
         "0",
         "unknown",
         "no"
        ]
       ],
       "shape": {
        "columns": 17,
        "rows": 45215
       }
      },
      "text/html": [
       "<div>\n",
       "<style scoped>\n",
       "    .dataframe tbody tr th:only-of-type {\n",
       "        vertical-align: middle;\n",
       "    }\n",
       "\n",
       "    .dataframe tbody tr th {\n",
       "        vertical-align: top;\n",
       "    }\n",
       "\n",
       "    .dataframe thead th {\n",
       "        text-align: right;\n",
       "    }\n",
       "</style>\n",
       "<table border=\"1\" class=\"dataframe\">\n",
       "  <thead>\n",
       "    <tr style=\"text-align: right;\">\n",
       "      <th></th>\n",
       "      <th>age</th>\n",
       "      <th>job</th>\n",
       "      <th>marital</th>\n",
       "      <th>education</th>\n",
       "      <th>default</th>\n",
       "      <th>balance</th>\n",
       "      <th>housing</th>\n",
       "      <th>loan</th>\n",
       "      <th>contact</th>\n",
       "      <th>day</th>\n",
       "      <th>month</th>\n",
       "      <th>duration</th>\n",
       "      <th>campaign</th>\n",
       "      <th>pdays</th>\n",
       "      <th>previous</th>\n",
       "      <th>poutcome</th>\n",
       "      <th>y</th>\n",
       "    </tr>\n",
       "  </thead>\n",
       "  <tbody>\n",
       "    <tr>\n",
       "      <th>0</th>\n",
       "      <td>58</td>\n",
       "      <td>management</td>\n",
       "      <td>married</td>\n",
       "      <td>tertiary</td>\n",
       "      <td>no</td>\n",
       "      <td>2143.0</td>\n",
       "      <td>yes</td>\n",
       "      <td>no</td>\n",
       "      <td>unknown</td>\n",
       "      <td>5</td>\n",
       "      <td>may</td>\n",
       "      <td>261.0</td>\n",
       "      <td>1</td>\n",
       "      <td>-1.0</td>\n",
       "      <td>0</td>\n",
       "      <td>unknown</td>\n",
       "      <td>no</td>\n",
       "    </tr>\n",
       "    <tr>\n",
       "      <th>1</th>\n",
       "      <td>44</td>\n",
       "      <td>technician</td>\n",
       "      <td>single</td>\n",
       "      <td>secondary</td>\n",
       "      <td>no</td>\n",
       "      <td>29.0</td>\n",
       "      <td>yes</td>\n",
       "      <td>no</td>\n",
       "      <td>unknown</td>\n",
       "      <td>5</td>\n",
       "      <td>may</td>\n",
       "      <td>151.0</td>\n",
       "      <td>1</td>\n",
       "      <td>-1.0</td>\n",
       "      <td>0</td>\n",
       "      <td>unknown</td>\n",
       "      <td>no</td>\n",
       "    </tr>\n",
       "    <tr>\n",
       "      <th>2</th>\n",
       "      <td>33</td>\n",
       "      <td>entrepreneur</td>\n",
       "      <td>married</td>\n",
       "      <td>secondary</td>\n",
       "      <td>no</td>\n",
       "      <td>2.0</td>\n",
       "      <td>yes</td>\n",
       "      <td>yes</td>\n",
       "      <td>unknown</td>\n",
       "      <td>5</td>\n",
       "      <td>may</td>\n",
       "      <td>76.0</td>\n",
       "      <td>1</td>\n",
       "      <td>-1.0</td>\n",
       "      <td>0</td>\n",
       "      <td>unknown</td>\n",
       "      <td>no</td>\n",
       "    </tr>\n",
       "    <tr>\n",
       "      <th>3</th>\n",
       "      <td>47</td>\n",
       "      <td>blue-collar</td>\n",
       "      <td>married</td>\n",
       "      <td>unknown</td>\n",
       "      <td>no</td>\n",
       "      <td>1506.0</td>\n",
       "      <td>yes</td>\n",
       "      <td>no</td>\n",
       "      <td>unknown</td>\n",
       "      <td>5</td>\n",
       "      <td>may</td>\n",
       "      <td>92.0</td>\n",
       "      <td>1</td>\n",
       "      <td>-1.0</td>\n",
       "      <td>0</td>\n",
       "      <td>unknown</td>\n",
       "      <td>no</td>\n",
       "    </tr>\n",
       "    <tr>\n",
       "      <th>4</th>\n",
       "      <td>33</td>\n",
       "      <td>unknown</td>\n",
       "      <td>single</td>\n",
       "      <td>unknown</td>\n",
       "      <td>no</td>\n",
       "      <td>1.0</td>\n",
       "      <td>no</td>\n",
       "      <td>no</td>\n",
       "      <td>unknown</td>\n",
       "      <td>5</td>\n",
       "      <td>may</td>\n",
       "      <td>198.0</td>\n",
       "      <td>1</td>\n",
       "      <td>-1.0</td>\n",
       "      <td>0</td>\n",
       "      <td>unknown</td>\n",
       "      <td>no</td>\n",
       "    </tr>\n",
       "    <tr>\n",
       "      <th>...</th>\n",
       "      <td>...</td>\n",
       "      <td>...</td>\n",
       "      <td>...</td>\n",
       "      <td>...</td>\n",
       "      <td>...</td>\n",
       "      <td>...</td>\n",
       "      <td>...</td>\n",
       "      <td>...</td>\n",
       "      <td>...</td>\n",
       "      <td>...</td>\n",
       "      <td>...</td>\n",
       "      <td>...</td>\n",
       "      <td>...</td>\n",
       "      <td>...</td>\n",
       "      <td>...</td>\n",
       "      <td>...</td>\n",
       "      <td>...</td>\n",
       "    </tr>\n",
       "    <tr>\n",
       "      <th>45210</th>\n",
       "      <td>51</td>\n",
       "      <td>technician</td>\n",
       "      <td>married</td>\n",
       "      <td>tertiary</td>\n",
       "      <td>no</td>\n",
       "      <td>825.0</td>\n",
       "      <td>no</td>\n",
       "      <td>no</td>\n",
       "      <td>cellular</td>\n",
       "      <td>17</td>\n",
       "      <td>nov</td>\n",
       "      <td>977.0</td>\n",
       "      <td>3</td>\n",
       "      <td>-1.0</td>\n",
       "      <td>0</td>\n",
       "      <td>unknown</td>\n",
       "      <td>yes</td>\n",
       "    </tr>\n",
       "    <tr>\n",
       "      <th>45211</th>\n",
       "      <td>71</td>\n",
       "      <td>retired</td>\n",
       "      <td>divorced</td>\n",
       "      <td>primary</td>\n",
       "      <td>no</td>\n",
       "      <td>1729.0</td>\n",
       "      <td>no</td>\n",
       "      <td>no</td>\n",
       "      <td>cellular</td>\n",
       "      <td>17</td>\n",
       "      <td>nov</td>\n",
       "      <td>456.0</td>\n",
       "      <td>2</td>\n",
       "      <td>-1.0</td>\n",
       "      <td>0</td>\n",
       "      <td>unknown</td>\n",
       "      <td>yes</td>\n",
       "    </tr>\n",
       "    <tr>\n",
       "      <th>45212</th>\n",
       "      <td>72</td>\n",
       "      <td>retired</td>\n",
       "      <td>married</td>\n",
       "      <td>secondary</td>\n",
       "      <td>no</td>\n",
       "      <td>5715.0</td>\n",
       "      <td>no</td>\n",
       "      <td>no</td>\n",
       "      <td>cellular</td>\n",
       "      <td>17</td>\n",
       "      <td>nov</td>\n",
       "      <td>1127.0</td>\n",
       "      <td>5</td>\n",
       "      <td>184.0</td>\n",
       "      <td>3</td>\n",
       "      <td>success</td>\n",
       "      <td>yes</td>\n",
       "    </tr>\n",
       "    <tr>\n",
       "      <th>45213</th>\n",
       "      <td>57</td>\n",
       "      <td>blue-collar</td>\n",
       "      <td>married</td>\n",
       "      <td>secondary</td>\n",
       "      <td>no</td>\n",
       "      <td>668.0</td>\n",
       "      <td>no</td>\n",
       "      <td>no</td>\n",
       "      <td>telephone</td>\n",
       "      <td>17</td>\n",
       "      <td>nov</td>\n",
       "      <td>508.0</td>\n",
       "      <td>4</td>\n",
       "      <td>-1.0</td>\n",
       "      <td>0</td>\n",
       "      <td>unknown</td>\n",
       "      <td>no</td>\n",
       "    </tr>\n",
       "    <tr>\n",
       "      <th>45214</th>\n",
       "      <td>37</td>\n",
       "      <td>entrepreneur</td>\n",
       "      <td>married</td>\n",
       "      <td>secondary</td>\n",
       "      <td>no</td>\n",
       "      <td>2971.0</td>\n",
       "      <td>no</td>\n",
       "      <td>no</td>\n",
       "      <td>cellular</td>\n",
       "      <td>17</td>\n",
       "      <td>nov</td>\n",
       "      <td>361.0</td>\n",
       "      <td>2</td>\n",
       "      <td>188.0</td>\n",
       "      <td>11</td>\n",
       "      <td>other</td>\n",
       "      <td>no</td>\n",
       "    </tr>\n",
       "  </tbody>\n",
       "</table>\n",
       "<p>45215 rows × 17 columns</p>\n",
       "</div>"
      ],
      "text/plain": [
       "       age           job   marital  education default  balance housing loan  \\\n",
       "0       58    management   married   tertiary      no   2143.0     yes   no   \n",
       "1       44    technician    single  secondary      no     29.0     yes   no   \n",
       "2       33  entrepreneur   married  secondary      no      2.0     yes  yes   \n",
       "3       47   blue-collar   married    unknown      no   1506.0     yes   no   \n",
       "4       33       unknown    single    unknown      no      1.0      no   no   \n",
       "...    ...           ...       ...        ...     ...      ...     ...  ...   \n",
       "45210   51    technician   married   tertiary      no    825.0      no   no   \n",
       "45211   71       retired  divorced    primary      no   1729.0      no   no   \n",
       "45212   72       retired   married  secondary      no   5715.0      no   no   \n",
       "45213   57   blue-collar   married  secondary      no    668.0      no   no   \n",
       "45214   37  entrepreneur   married  secondary      no   2971.0      no   no   \n",
       "\n",
       "         contact  day month  duration  campaign  pdays  previous poutcome    y  \n",
       "0        unknown    5   may     261.0         1   -1.0         0  unknown   no  \n",
       "1        unknown    5   may     151.0         1   -1.0         0  unknown   no  \n",
       "2        unknown    5   may      76.0         1   -1.0         0  unknown   no  \n",
       "3        unknown    5   may      92.0         1   -1.0         0  unknown   no  \n",
       "4        unknown    5   may     198.0         1   -1.0         0  unknown   no  \n",
       "...          ...  ...   ...       ...       ...    ...       ...      ...  ...  \n",
       "45210   cellular   17   nov     977.0         3   -1.0         0  unknown  yes  \n",
       "45211   cellular   17   nov     456.0         2   -1.0         0  unknown  yes  \n",
       "45212   cellular   17   nov    1127.0         5  184.0         3  success  yes  \n",
       "45213  telephone   17   nov     508.0         4   -1.0         0  unknown   no  \n",
       "45214   cellular   17   nov     361.0         2  188.0        11    other   no  \n",
       "\n",
       "[45215 rows x 17 columns]"
      ]
     },
     "execution_count": 3,
     "metadata": {},
     "output_type": "execute_result"
    }
   ],
   "source": [
    "df"
   ]
  },
  {
   "cell_type": "code",
   "execution_count": 4,
   "metadata": {},
   "outputs": [
    {
     "name": "stdout",
     "output_type": "stream",
     "text": [
      "<class 'pandas.core.frame.DataFrame'>\n",
      "RangeIndex: 45215 entries, 0 to 45214\n",
      "Data columns (total 17 columns):\n",
      " #   Column     Non-Null Count  Dtype  \n",
      "---  ------     --------------  -----  \n",
      " 0   age        45215 non-null  int64  \n",
      " 1   job        45213 non-null  object \n",
      " 2   marital    45214 non-null  object \n",
      " 3   education  45214 non-null  object \n",
      " 4   default    45215 non-null  object \n",
      " 5   balance    45213 non-null  float64\n",
      " 6   housing    45215 non-null  object \n",
      " 7   loan       45215 non-null  object \n",
      " 8   contact    45215 non-null  object \n",
      " 9   day        45215 non-null  int64  \n",
      " 10  month      45215 non-null  object \n",
      " 11  duration   45214 non-null  float64\n",
      " 12  campaign   45215 non-null  int64  \n",
      " 13  pdays      45214 non-null  float64\n",
      " 14  previous   45215 non-null  int64  \n",
      " 15  poutcome   45215 non-null  object \n",
      " 16  y          45215 non-null  object \n",
      "dtypes: float64(3), int64(4), object(10)\n",
      "memory usage: 5.9+ MB\n"
     ]
    }
   ],
   "source": [
    "df.info()"
   ]
  },
  {
   "cell_type": "code",
   "execution_count": 5,
   "metadata": {},
   "outputs": [
    {
     "data": {
      "text/plain": [
       "job\n",
       "blue-collar       9731\n",
       "management        9455\n",
       "technician        7599\n",
       "admin.            5168\n",
       "services          4153\n",
       "retired           2263\n",
       "self-employed     1578\n",
       "entrepreneur      1487\n",
       "unemployed        1303\n",
       "housemaid         1240\n",
       "student            938\n",
       "unknown            288\n",
       "administrative       3\n",
       "MANAGEMENT           2\n",
       "Management           2\n",
       "Self-employed        1\n",
       "Services             1\n",
       "Retired              1\n",
       "Name: count, dtype: int64"
      ]
     },
     "execution_count": 5,
     "metadata": {},
     "output_type": "execute_result"
    }
   ],
   "source": [
    "df.value_counts('job')"
   ]
  },
  {
   "cell_type": "code",
   "execution_count": 6,
   "metadata": {},
   "outputs": [
    {
     "data": {
      "text/plain": [
       "Index(['age', 'job', 'marital', 'education', 'default', 'balance', 'housing',\n",
       "       'loan', 'contact', 'day', 'month', 'duration', 'campaign', 'pdays',\n",
       "       'previous', 'poutcome', 'y'],\n",
       "      dtype='object')"
      ]
     },
     "execution_count": 6,
     "metadata": {},
     "output_type": "execute_result"
    }
   ],
   "source": [
    "df.columns"
   ]
  },
  {
   "cell_type": "code",
   "execution_count": 7,
   "metadata": {},
   "outputs": [
    {
     "name": "stdout",
     "output_type": "stream",
     "text": [
      "Columnas con valores nulos: ['job', 'marital', 'education', 'balance', 'duration', 'pdays']\n"
     ]
    }
   ],
   "source": [
    "col_nulos = [col for col in df.columns if df[col].isnull().any()]\n",
    "print(\"Columnas con valores nulos:\", col_nulos)\n",
    "#se imprime las columnas que tienen valores nulos"
   ]
  },
  {
   "cell_type": "code",
   "execution_count": 8,
   "metadata": {},
   "outputs": [
    {
     "name": "stdout",
     "output_type": "stream",
     "text": [
      "<class 'pandas.core.frame.DataFrame'>\n",
      "RangeIndex: 45215 entries, 0 to 45214\n",
      "Data columns (total 17 columns):\n",
      " #   Column     Non-Null Count  Dtype  \n",
      "---  ------     --------------  -----  \n",
      " 0   age        45215 non-null  int64  \n",
      " 1   job        45213 non-null  object \n",
      " 2   marital    45214 non-null  object \n",
      " 3   education  45214 non-null  object \n",
      " 4   default    45215 non-null  object \n",
      " 5   balance    45213 non-null  float64\n",
      " 6   housing    45215 non-null  object \n",
      " 7   loan       45215 non-null  object \n",
      " 8   contact    45215 non-null  object \n",
      " 9   day        45215 non-null  int64  \n",
      " 10  month      45215 non-null  object \n",
      " 11  duration   45214 non-null  float64\n",
      " 12  campaign   45215 non-null  int64  \n",
      " 13  pdays      45214 non-null  float64\n",
      " 14  previous   45215 non-null  int64  \n",
      " 15  poutcome   45215 non-null  object \n",
      " 16  y          45215 non-null  object \n",
      "dtypes: float64(3), int64(4), object(10)\n",
      "memory usage: 5.9+ MB\n"
     ]
    }
   ],
   "source": [
    "df.info()"
   ]
  },
  {
   "cell_type": "code",
   "execution_count": 9,
   "metadata": {},
   "outputs": [],
   "source": [
    "col_num = ['age', 'balance', 'day', 'duration', 'campaign', 'pdays', 'previous']\n",
    "col_cat = ['job', 'marital', 'education', 'default', 'housing', 'loan', 'contact', 'month', 'poutcome', 'y']\n",
    "#clasificacion de las columnas en numericas y categoricas"
   ]
  },
  {
   "cell_type": "code",
   "execution_count": 10,
   "metadata": {},
   "outputs": [
    {
     "data": {
      "text/plain": [
       "job          0\n",
       "marital      0\n",
       "education    0\n",
       "default      0\n",
       "housing      0\n",
       "loan         0\n",
       "contact      0\n",
       "month        0\n",
       "poutcome     0\n",
       "y            0\n",
       "dtype: int64"
      ]
     },
     "execution_count": 10,
     "metadata": {},
     "output_type": "execute_result"
    }
   ],
   "source": [
    "df[col_cat] = df[col_cat].fillna('nan')\n",
    "df[col_cat].isnull().sum()"
   ]
  },
  {
   "cell_type": "code",
   "execution_count": 11,
   "metadata": {},
   "outputs": [
    {
     "data": {
      "text/plain": [
       "age         0\n",
       "balance     0\n",
       "day         0\n",
       "duration    0\n",
       "campaign    0\n",
       "pdays       0\n",
       "previous    0\n",
       "dtype: int64"
      ]
     },
     "execution_count": 11,
     "metadata": {},
     "output_type": "execute_result"
    }
   ],
   "source": [
    "for col in col_num:\n",
    "    df[col] = df[col].fillna(df[col].mean())\n",
    "df[col_num].isnull().sum()"
   ]
  },
  {
   "cell_type": "code",
   "execution_count": 12,
   "metadata": {},
   "outputs": [
    {
     "name": "stdout",
     "output_type": "stream",
     "text": [
      "<class 'pandas.core.frame.DataFrame'>\n",
      "RangeIndex: 45215 entries, 0 to 45214\n",
      "Data columns (total 17 columns):\n",
      " #   Column     Non-Null Count  Dtype  \n",
      "---  ------     --------------  -----  \n",
      " 0   age        45215 non-null  int64  \n",
      " 1   job        45215 non-null  object \n",
      " 2   marital    45215 non-null  object \n",
      " 3   education  45215 non-null  object \n",
      " 4   default    45215 non-null  object \n",
      " 5   balance    45215 non-null  float64\n",
      " 6   housing    45215 non-null  object \n",
      " 7   loan       45215 non-null  object \n",
      " 8   contact    45215 non-null  object \n",
      " 9   day        45215 non-null  int64  \n",
      " 10  month      45215 non-null  object \n",
      " 11  duration   45215 non-null  float64\n",
      " 12  campaign   45215 non-null  int64  \n",
      " 13  pdays      45215 non-null  float64\n",
      " 14  previous   45215 non-null  int64  \n",
      " 15  poutcome   45215 non-null  object \n",
      " 16  y          45215 non-null  object \n",
      "dtypes: float64(3), int64(4), object(10)\n",
      "memory usage: 5.9+ MB\n"
     ]
    }
   ],
   "source": [
    "df.info()"
   ]
  },
  {
   "cell_type": "code",
   "execution_count": 13,
   "metadata": {},
   "outputs": [
    {
     "name": "stdout",
     "output_type": "stream",
     "text": [
      "Columna job: 19 subniveles\n",
      "Columna marital: 7 subniveles\n",
      "Columna education: 11 subniveles\n",
      "Columna default: 2 subniveles\n",
      "Columna housing: 2 subniveles\n",
      "Columna loan: 6 subniveles\n",
      "Columna contact: 5 subniveles\n",
      "Columna month: 12 subniveles\n",
      "Columna poutcome: 6 subniveles\n",
      "Columna y: 2 subniveles\n"
     ]
    }
   ],
   "source": [
    "for col in col_cat:\n",
    "  print(f'Columna {col}: {df[col].nunique()} subniveles')\n",
    "  #si hay menos de 2 subniveles, puede que no sirva la columna"
   ]
  },
  {
   "cell_type": "code",
   "execution_count": 14,
   "metadata": {},
   "outputs": [
    {
     "data": {
      "application/vnd.microsoft.datawrangler.viewer.v0+json": {
       "columns": [
        {
         "name": "index",
         "rawType": "object",
         "type": "string"
        },
        {
         "name": "age",
         "rawType": "float64",
         "type": "float"
        },
        {
         "name": "balance",
         "rawType": "float64",
         "type": "float"
        },
        {
         "name": "day",
         "rawType": "float64",
         "type": "float"
        },
        {
         "name": "duration",
         "rawType": "float64",
         "type": "float"
        },
        {
         "name": "campaign",
         "rawType": "float64",
         "type": "float"
        },
        {
         "name": "pdays",
         "rawType": "float64",
         "type": "float"
        },
        {
         "name": "previous",
         "rawType": "float64",
         "type": "float"
        }
       ],
       "conversionMethod": "pd.DataFrame",
       "ref": "96531e44-be98-43d2-9e39-50a617ca63e8",
       "rows": [
        [
         "count",
         "45215.0",
         "45215.0",
         "45215.0",
         "45215.0",
         "45215.0",
         "45215.0",
         "45215.0"
        ],
        [
         "mean",
         "41.0047108260533",
         "1374.159865525402",
         "15.805838770319584",
         "258.0743574998894",
         "2.7637288510450073",
         "40.19248462865484",
         "0.5803826163883667"
        ],
        [
         "std",
         "12.036647271103043",
         "3924.1687307641077",
         "8.322472999726255",
         "257.6023258580543",
         "3.0979102171375557",
         "100.11951452891164",
         "2.3034377819975096"
        ],
        [
         "min",
         "18.0",
         "-8019.0",
         "1.0",
         "-1389.0",
         "1.0",
         "-1.0",
         "0.0"
        ],
        [
         "25%",
         "33.0",
         "72.0",
         "8.0",
         "103.0",
         "1.0",
         "-1.0",
         "0.0"
        ],
        [
         "50%",
         "39.0",
         "448.0",
         "16.0",
         "180.0",
         "2.0",
         "-1.0",
         "0.0"
        ],
        [
         "75%",
         "48.0",
         "1427.5",
         "21.0",
         "319.0",
         "3.0",
         "-1.0",
         "0.0"
        ],
        [
         "max",
         "776.0",
         "527532.0",
         "31.0",
         "4918.0",
         "63.0",
         "871.0",
         "275.0"
        ]
       ],
       "shape": {
        "columns": 7,
        "rows": 8
       }
      },
      "text/html": [
       "<div>\n",
       "<style scoped>\n",
       "    .dataframe tbody tr th:only-of-type {\n",
       "        vertical-align: middle;\n",
       "    }\n",
       "\n",
       "    .dataframe tbody tr th {\n",
       "        vertical-align: top;\n",
       "    }\n",
       "\n",
       "    .dataframe thead th {\n",
       "        text-align: right;\n",
       "    }\n",
       "</style>\n",
       "<table border=\"1\" class=\"dataframe\">\n",
       "  <thead>\n",
       "    <tr style=\"text-align: right;\">\n",
       "      <th></th>\n",
       "      <th>age</th>\n",
       "      <th>balance</th>\n",
       "      <th>day</th>\n",
       "      <th>duration</th>\n",
       "      <th>campaign</th>\n",
       "      <th>pdays</th>\n",
       "      <th>previous</th>\n",
       "    </tr>\n",
       "  </thead>\n",
       "  <tbody>\n",
       "    <tr>\n",
       "      <th>count</th>\n",
       "      <td>45215.000000</td>\n",
       "      <td>45215.000000</td>\n",
       "      <td>45215.000000</td>\n",
       "      <td>45215.000000</td>\n",
       "      <td>45215.000000</td>\n",
       "      <td>45215.000000</td>\n",
       "      <td>45215.000000</td>\n",
       "    </tr>\n",
       "    <tr>\n",
       "      <th>mean</th>\n",
       "      <td>41.004711</td>\n",
       "      <td>1374.159866</td>\n",
       "      <td>15.805839</td>\n",
       "      <td>258.074357</td>\n",
       "      <td>2.763729</td>\n",
       "      <td>40.192485</td>\n",
       "      <td>0.580383</td>\n",
       "    </tr>\n",
       "    <tr>\n",
       "      <th>std</th>\n",
       "      <td>12.036647</td>\n",
       "      <td>3924.168731</td>\n",
       "      <td>8.322473</td>\n",
       "      <td>257.602326</td>\n",
       "      <td>3.097910</td>\n",
       "      <td>100.119515</td>\n",
       "      <td>2.303438</td>\n",
       "    </tr>\n",
       "    <tr>\n",
       "      <th>min</th>\n",
       "      <td>18.000000</td>\n",
       "      <td>-8019.000000</td>\n",
       "      <td>1.000000</td>\n",
       "      <td>-1389.000000</td>\n",
       "      <td>1.000000</td>\n",
       "      <td>-1.000000</td>\n",
       "      <td>0.000000</td>\n",
       "    </tr>\n",
       "    <tr>\n",
       "      <th>25%</th>\n",
       "      <td>33.000000</td>\n",
       "      <td>72.000000</td>\n",
       "      <td>8.000000</td>\n",
       "      <td>103.000000</td>\n",
       "      <td>1.000000</td>\n",
       "      <td>-1.000000</td>\n",
       "      <td>0.000000</td>\n",
       "    </tr>\n",
       "    <tr>\n",
       "      <th>50%</th>\n",
       "      <td>39.000000</td>\n",
       "      <td>448.000000</td>\n",
       "      <td>16.000000</td>\n",
       "      <td>180.000000</td>\n",
       "      <td>2.000000</td>\n",
       "      <td>-1.000000</td>\n",
       "      <td>0.000000</td>\n",
       "    </tr>\n",
       "    <tr>\n",
       "      <th>75%</th>\n",
       "      <td>48.000000</td>\n",
       "      <td>1427.500000</td>\n",
       "      <td>21.000000</td>\n",
       "      <td>319.000000</td>\n",
       "      <td>3.000000</td>\n",
       "      <td>-1.000000</td>\n",
       "      <td>0.000000</td>\n",
       "    </tr>\n",
       "    <tr>\n",
       "      <th>max</th>\n",
       "      <td>776.000000</td>\n",
       "      <td>527532.000000</td>\n",
       "      <td>31.000000</td>\n",
       "      <td>4918.000000</td>\n",
       "      <td>63.000000</td>\n",
       "      <td>871.000000</td>\n",
       "      <td>275.000000</td>\n",
       "    </tr>\n",
       "  </tbody>\n",
       "</table>\n",
       "</div>"
      ],
      "text/plain": [
       "                age        balance           day      duration      campaign  \\\n",
       "count  45215.000000   45215.000000  45215.000000  45215.000000  45215.000000   \n",
       "mean      41.004711    1374.159866     15.805839    258.074357      2.763729   \n",
       "std       12.036647    3924.168731      8.322473    257.602326      3.097910   \n",
       "min       18.000000   -8019.000000      1.000000  -1389.000000      1.000000   \n",
       "25%       33.000000      72.000000      8.000000    103.000000      1.000000   \n",
       "50%       39.000000     448.000000     16.000000    180.000000      2.000000   \n",
       "75%       48.000000    1427.500000     21.000000    319.000000      3.000000   \n",
       "max      776.000000  527532.000000     31.000000   4918.000000     63.000000   \n",
       "\n",
       "              pdays      previous  \n",
       "count  45215.000000  45215.000000  \n",
       "mean      40.192485      0.580383  \n",
       "std      100.119515      2.303438  \n",
       "min       -1.000000      0.000000  \n",
       "25%       -1.000000      0.000000  \n",
       "50%       -1.000000      0.000000  \n",
       "75%       -1.000000      0.000000  \n",
       "max      871.000000    275.000000  "
      ]
     },
     "execution_count": 14,
     "metadata": {},
     "output_type": "execute_result"
    }
   ],
   "source": [
    "df.describe() #si std no es cero, no hay varianza"
   ]
  },
  {
   "cell_type": "code",
   "execution_count": 15,
   "metadata": {},
   "outputs": [
    {
     "name": "stdout",
     "output_type": "stream",
     "text": [
      "Cantidad con col repetidas:  (45215, 17)\n",
      "Cantidad sin col repetidas:  (45211, 17)\n"
     ]
    }
   ],
   "source": [
    "print('Cantidad con col repetidas: ',df.shape)\n",
    "df.drop_duplicates(inplace=True) #elimina duplicados\n",
    "print('Cantidad sin col repetidas: ',df.shape)"
   ]
  },
  {
   "cell_type": "code",
   "execution_count": 16,
   "metadata": {},
   "outputs": [
    {
     "data": {
      "image/png": "[encoded data removed]",
      "text/plain": [
       "<Figure size 600x2500 with 7 Axes>"
      ]
     },
     "metadata": {},
     "output_type": "display_data"
    }
   ],
   "source": [
    "fig, ax = plt.subplots(nrows=7, ncols=1, figsize=(6,25)) \n",
    "fig.subplots_adjust(hspace=0.5) #Espacio entre graficas\n",
    "\n",
    "for i, col in enumerate(col_num):\n",
    "    sns.boxplot(x=col, data=df, ax=ax[i])\n",
    "    ax[i].set_title(col)"
   ]
  },
  {
   "cell_type": "code",
   "execution_count": 17,
   "metadata": {},
   "outputs": [
    {
     "name": "stdout",
     "output_type": "stream",
     "text": [
      "Cantidad registros antes:  (45211, 17)\n",
      "Cantidad registros despues:  (45203, 17)\n"
     ]
    }
   ],
   "source": [
    "print('Cantidad registros antes: ',df.shape)\n",
    "df = df[df['age'] <=100] #elimina valores negativos\n",
    "print('Cantidad registros despues: ',df.shape)"
   ]
  },
  {
   "cell_type": "code",
   "execution_count": 18,
   "metadata": {},
   "outputs": [
    {
     "name": "stdout",
     "output_type": "stream",
     "text": [
      "Cantidad registros antes:  (45203, 17)\n",
      "Cantidad registros despues:  (45198, 17)\n"
     ]
    }
   ],
   "source": [
    "print('Cantidad registros antes: ',df.shape)\n",
    "df = df[df['duration'] > 0] #elimina valores negativos\n",
    "print('Cantidad registros despues: ',df.shape)"
   ]
  },
  {
   "cell_type": "code",
   "execution_count": 19,
   "metadata": {},
   "outputs": [
    {
     "name": "stdout",
     "output_type": "stream",
     "text": [
      "Cantidad registros antes:  (45198, 17)\n",
      "Cantidad registros despues:  (45197, 17)\n"
     ]
    }
   ],
   "source": [
    "print('Cantidad registros antes: ',df.shape)\n",
    "df = df[df['previous'] < 100] #elimina valores negativos\n",
    "print('Cantidad registros despues: ',df.shape)"
   ]
  },
  {
   "cell_type": "code",
   "execution_count": 20,
   "metadata": {},
   "outputs": [
    {
     "data": {
      "image/png": "[encoded data removed]",
      "text/plain": [
       "<Figure size 600x2500 with 7 Axes>"
      ]
     },
     "metadata": {},
     "output_type": "display_data"
    }
   ],
   "source": [
    "fig, ax = plt.subplots(nrows=7, ncols=1, figsize=(6,25)) \n",
    "fig.subplots_adjust(hspace=0.5) #Espacio entre graficas\n",
    "\n",
    "for i, col in enumerate(col_num):\n",
    "    sns.boxplot(x=col, data=df, ax=ax[i])\n",
    "    ax[i].set_title(col)"
   ]
  },
  {
   "cell_type": "code",
   "execution_count": 23,
   "metadata": {},
   "outputs": [
    {
     "data": {
      "text/plain": [
       "marital\n",
       "married     27204\n",
       "single      12782\n",
       "divorced     5196\n",
       "div.            7\n",
       "Single          4\n",
       "DIVORCED        3\n",
       "nan             1\n",
       "Name: count, dtype: int64"
      ]
     },
     "execution_count": 23,
     "metadata": {},
     "output_type": "execute_result"
    }
   ],
   "source": [
    "df.value_counts('marital')"
   ]
  },
  {
   "cell_type": "code",
   "execution_count": null,
   "metadata": {},
   "outputs": [],
   "source": [
    "for column in df.columns:\n",
    "    if column in col_cat:\n",
    "        df[column] = df[column].str.lower()\n",
    "# se pasa a minusculas para evitar duplicados por mayusculas y minusculas"
   ]
  },
  {
   "cell_type": "code",
   "execution_count": 25,
   "metadata": {},
   "outputs": [
    {
     "data": {
      "text/plain": [
       "marital\n",
       "married     27204\n",
       "single      12786\n",
       "divorced     5199\n",
       "div.            7\n",
       "nan             1\n",
       "Name: count, dtype: int64"
      ]
     },
     "execution_count": 25,
     "metadata": {},
     "output_type": "execute_result"
    }
   ],
   "source": [
    "df.value_counts('marital')"
   ]
  },
  {
   "cell_type": "code",
   "execution_count": 35,
   "metadata": {},
   "outputs": [
    {
     "name": "stdout",
     "output_type": "stream",
     "text": [
      "['married' 'single' 'divorced' 'nan']\n"
     ]
    },
    {
     "data": {
      "text/plain": [
       "marital\n",
       "married     27204\n",
       "single      12786\n",
       "divorced     5206\n",
       "nan             1\n",
       "Name: count, dtype: int64"
      ]
     },
     "execution_count": 35,
     "metadata": {},
     "output_type": "execute_result"
    }
   ],
   "source": [
    "print(df['marital'].unique()) #se ve los valores unicos de la columna marital\n",
    "df['marital'] = df['marital'].str.replace('div.', 'divorced') #se reemplaza el valor por el correcto\n",
    "df.value_counts('marital')"
   ]
  },
  {
   "cell_type": "code",
   "execution_count": 36,
   "metadata": {},
   "outputs": [
    {
     "name": "stdout",
     "output_type": "stream",
     "text": [
      "['management' 'technician' 'entrepreneur' 'blue-collar' 'unknown'\n",
      " 'retired' 'administrative' 'services' 'self-employed' 'unemployed'\n",
      " 'housemaid' 'student' 'nan']\n"
     ]
    },
    {
     "data": {
      "text/plain": [
       "job\n",
       "blue-collar       9728\n",
       "management        9456\n",
       "technician        7594\n",
       "administrative    5170\n",
       "services          4152\n",
       "retired           2263\n",
       "self-employed     1578\n",
       "entrepreneur      1486\n",
       "unemployed        1303\n",
       "housemaid         1240\n",
       "student            937\n",
       "unknown            288\n",
       "nan                  2\n",
       "Name: count, dtype: int64"
      ]
     },
     "execution_count": 36,
     "metadata": {},
     "output_type": "execute_result"
    }
   ],
   "source": [
    "print(df['job'].unique()) #se ve los valores unicos de la columna marital\n",
    "df['job'] = df['job'].str.replace('admin.', 'administrative') #se reemplaza el valor por el correcto\n",
    "df.value_counts('job')"
   ]
  },
  {
   "cell_type": "code",
   "execution_count": 29,
   "metadata": {},
   "outputs": [
    {
     "name": "stdout",
     "output_type": "stream",
     "text": [
      "['tertiary' 'secondary' 'unknown' 'primary' 'sec.' 'unk' 'nan']\n"
     ]
    },
    {
     "data": {
      "text/plain": [
       "education\n",
       "secondary      23192\n",
       "tertiary       13299\n",
       "primary         6848\n",
       "unknownnown     1855\n",
       "unknown            2\n",
       "nan                1\n",
       "Name: count, dtype: int64"
      ]
     },
     "execution_count": 29,
     "metadata": {},
     "output_type": "execute_result"
    }
   ],
   "source": [
    "print(df['education'].unique())\n",
    "df['education'] = df['education'].str.replace('sec.', 'secondary')\n",
    "df['education'] = df['education'].str.replace('unk','unknown')  #se reemplaza el valor por el correcto\n",
    "df.value_counts('education')"
   ]
  },
  {
   "cell_type": "code",
   "execution_count": null,
   "metadata": {},
   "outputs": [
    {
     "name": "stdout",
     "output_type": "stream",
     "text": [
      "['unknown' 'mobile']\n"
     ]
    },
    {
     "data": {
      "text/plain": [
       "contact\n",
       "phone      32186\n",
       "unknown    13011\n",
       "Name: count, dtype: int64"
      ]
     },
     "execution_count": 47,
     "metadata": {},
     "output_type": "execute_result"
    }
   ],
   "source": [
    "print(df['contact'].unique())\n",
    "df['contact'] = df['contact'].str.replace('cellular','mobile') #se reemplaza el valor por el correcto\n",
    "df['contact'] =df['contact'].replace('mobile','phone') #Cambio de nombre de un valor\n",
    "df.value_counts('contact')\n"
   ]
  },
  {
   "cell_type": "code",
   "execution_count": 48,
   "metadata": {},
   "outputs": [
    {
     "data": {
      "text/plain": [
       "(45197, 17)"
      ]
     },
     "execution_count": 48,
     "metadata": {},
     "output_type": "execute_result"
    }
   ],
   "source": [
    "df.shape"
   ]
  }
 ],
 "metadata": {
  "kernelspec": {
   "display_name": ".venv",
   "language": "python",
   "name": "python3"
  },
  "language_info": {
   "codemirror_mode": {
    "name": "ipython",
    "version": 3
   },
   "file_extension": ".py",
   "mimetype": "text/x-python",
   "name": "python",
   "nbconvert_exporter": "python",
   "pygments_lexer": "ipython3",
   "version": "3.11.9"
  }
 },
 "nbformat": 4,
 "nbformat_minor": 2
}
